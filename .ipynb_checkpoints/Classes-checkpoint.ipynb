{
 "cells": [
  {
   "cell_type": "markdown",
   "id": "147b2b0f",
   "metadata": {},
   "source": [
    "why we need classes \n",
    "\n",
    "1. With the help of Classes we can easily represent complex data structures and they contain functions that then describe the behavior of our class.\n",
    "\n",
    "2. A class is basically a blueprint of how something should be defined and the way we create class in python is with the keyword class and then followed by a name by convention we start the class name with a capital letter.\n",
    "\n",
    "3. Class is just a blueprint it does not contains any concrete information the actual informations will be on the instances of that class. for example if you create a dogs class, the class will contains only the outline or general information like colors,breed,height,weight. But in the instance it will consist what the actual breed like gernansherped and color like black.\n",
    "\n",
    "4. All classes have a function called __init__(), which is always executed when the class is being initiated.\n",
    "\n",
    "5. Use the __init__() function to assign values to object properties, or other operations that are necessary to do when the object is being created:\n",
    "\n",
    "Note: The __init__() function is called automatically every time the class is being used to create a new object.\n",
    "\n",
    "6. The self parameter is a reference to the current instance of the class, and is used to access variables that belongs to the class.\n",
    "\n",
    "7. It does not have to be named self , you can call it whatever you like, but it has to be the first parameter of any function in the class:\n",
    "\n"
   ]
  },
  {
   "cell_type": "code",
   "execution_count": 48,
   "id": "25f3ccde",
   "metadata": {},
   "outputs": [
    {
     "name": "stdout",
     "output_type": "stream",
     "text": [
      "Karthik 2000\n",
      "Monkey d luffy\n"
     ]
    }
   ],
   "source": [
    "#class\n",
    "class SoftwareEngineer:\n",
    "    #class atrributes\n",
    "    Hero = \"Monkey d luffy\"\n",
    "    def __init__(self,name,age,jobtitle,salary):\n",
    "        #parameters that have self in the front here that can be used in this class and these have a special name\n",
    "        #ie instance attributes\n",
    "        self.name = name\n",
    "        self.age = age\n",
    "        self.jobtitle = jobtitle\n",
    "        self.salary = salary\n",
    "        \n",
    "    #instance method    \n",
    "    def coder(self):\n",
    "        print(f\"{self.name} is writing code\")\n",
    "        \n",
    "    def coder_language(self, language):\n",
    "        print(f\"{self.name} is writing code in {language}\")\n",
    "\n",
    "    def __str__(self):\n",
    "        information = f\"name: {self.name}, age= {self.age}, jobtitle= {self.jobtitle}, salary= {self.salary}\"\n",
    "        return information\n",
    "\n",
    "        \n",
    "\n",
    "#instance\n",
    "se1 = SoftwareEngineer(\"Karthik\",22,\"Data Engineer\",2000)\n",
    "# In th print the name and salary we call is the self.name and the self.salary not the name and salary after =\n",
    "#name and salary after the equal sign is denotes the arguments in (\"Karthik\",2000)\n",
    "print(se1.name,se1.salary)\n",
    "\n",
    "\n",
    "#when we mean class atrribute that is defined outside the __init__(), we can use without instantiating an object\n",
    "#whereas we cannot do it in the case of instance attributes that is defined inside the __init__() we must create\n",
    "#an object to usse it.\n",
    "print(SoftwareEngineer.Hero)\n",
    "        \n",
    "    "
   ]
  },
  {
   "cell_type": "markdown",
   "id": "ded498a2",
   "metadata": {},
   "source": [
    "1. The functions in class will further clarify why a class is better structure than a list.\n",
    "\n",
    "2. Consider we are creating a global function meaning creating a function outside the class like this\n",
    "\n",
    "def code(name):\n",
    "\n",
    "    print(f\"{name} is writing code\")\n",
    "    \n",
    "    \n",
    "now if we try to call this function it still works but we can replace the with a name of an designer or Analyst too, but if we create the function inside a SoftwareEngineer class we can confirm that only programmers name are here.\n",
    "\n",
    "Note that we have a one parameter self inside the class but we don't pass this into this function se1.coder() when we execute it this is automatically included for us. So the same in the __init__ function in the declaration inside the class we have self as the first parameter but when we create using se1 instance we start with the name not self.\n",
    "\n",
    "Dunder method:\n",
    "\n",
    "Consider we are printing only the se1 object without declaring __str__() we get information like class name objects at the memory location. Now using this __str__() you can specify what to show when the object executes."
   ]
  },
  {
   "cell_type": "markdown",
   "id": "85ddaf4c",
   "metadata": {},
   "source": [
    "We can only use the instance method or instance attributes when the self is already defined on the class because when we call a instance like se1 with some method like se1.coder() python will automatically load the self has a first parameter and when we tries to give another parameter the method will have two parameters instead of one so it will crash.\n",
    "But we can call a method that do not have an self parameter already defined in the class by directly calling it with the Class name like print(SoftwareEngineer.entry_salary(27)) then it will not crash because the python only loads self automatically only for the instances not for classes.\n",
    "\n",
    "In practice when you see a method in a class that should not be tied to a specific instance then most of the time you see it with the @static decorator static method.\n",
    "\n",
    "Using __eq__() we can compare two objects. "
   ]
  },
  {
   "cell_type": "code",
   "execution_count": 49,
   "id": "79f9cb9d",
   "metadata": {},
   "outputs": [
    {
     "name": "stdout",
     "output_type": "stream",
     "text": [
      "Karthik is writing code\n"
     ]
    }
   ],
   "source": [
    "def coder(name):\n",
    "    print(f'{name} is writing code')\n",
    "\n",
    "coder('Karthik')"
   ]
  },
  {
   "cell_type": "code",
   "execution_count": 50,
   "id": "a78e471c",
   "metadata": {},
   "outputs": [
    {
     "name": "stdout",
     "output_type": "stream",
     "text": [
      "Alan is writing code\n",
      "Alan is writing code in Powerbi\n",
      "Karthik is writing code in Python\n"
     ]
    }
   ],
   "source": [
    "se= SoftwareEngineer('Alan',25, 'Data scientist', 2300)\n",
    "se.coder()\n",
    "se.coder_language('Powerbi')\n",
    "se1.coder_language('Python')\n"
   ]
  },
  {
   "cell_type": "code",
   "execution_count": 54,
   "id": "b2b7e279",
   "metadata": {},
   "outputs": [
    {
     "name": "stdout",
     "output_type": "stream",
     "text": [
      "name: Alan, age= 25, jobtitle= Data scientist, salary= 2300\n"
     ]
    }
   ],
   "source": [
    "print(se)"
   ]
  },
  {
   "cell_type": "markdown",
   "id": "8118422c",
   "metadata": {},
   "source": [
    "Inheritance:\n",
    "\n",
    "1. Inheritance is the process by which one class takes on the attributes and methods of another class so this newly formed class is called a child class and the other one is called the parent class.\n",
    "\n",
    "2.if we use a same function with the same name in the child class we will override the parent class. if we use a new function in the child class we will extend this. "
   ]
  },
  {
   "cell_type": "code",
   "execution_count": null,
   "id": "c300d3ef",
   "metadata": {},
   "outputs": [],
   "source": []
  },
  {
   "cell_type": "code",
   "execution_count": null,
   "id": "25f90b48",
   "metadata": {},
   "outputs": [],
   "source": []
  },
  {
   "cell_type": "code",
   "execution_count": null,
   "id": "7c11901b",
   "metadata": {},
   "outputs": [],
   "source": []
  },
  {
   "cell_type": "code",
   "execution_count": 13,
   "id": "dee91f48",
   "metadata": {},
   "outputs": [
    {
     "name": "stdout",
     "output_type": "stream",
     "text": [
      "a is larger than b. The value of a is: 33 and the value of b is 3.\n"
     ]
    }
   ],
   "source": [
    "a=33\n",
    "b=3\n",
    "\n",
    "if a < b:\n",
    "    print(f\"a is smaller than b. The value of a is: {a} and the value of b is {b}.\")\n",
    "else:\n",
    "    print(f\"a is larger than b. The value of a is: {a} and the value of b is {b}.\")"
   ]
  },
  {
   "cell_type": "code",
   "execution_count": 16,
   "id": "c1c3dd03",
   "metadata": {},
   "outputs": [
    {
     "name": "stdout",
     "output_type": "stream",
     "text": [
      "a is smaller than b. The value of a is: 10 and the value of b is 22.\n"
     ]
    }
   ],
   "source": [
    "def find_maximum_number(a,b):\n",
    "    if a < b:\n",
    "        print(f\"a is smaller than b. The value of a is: {a} and the value of b is {b}.\")\n",
    "    else:\n",
    "        print(f\"a is larger than b. The value of a is: {a} and the value of b is {b}.\")\n",
    "\n",
    "find_maximum_number(10,22)"
   ]
  },
  {
   "cell_type": "code",
   "execution_count": null,
   "id": "e9c6ac48",
   "metadata": {},
   "outputs": [],
   "source": []
  }
 ],
 "metadata": {
  "kernelspec": {
   "display_name": "Python 3 (ipykernel)",
   "language": "python",
   "name": "python3"
  },
  "language_info": {
   "codemirror_mode": {
    "name": "ipython",
    "version": 3
   },
   "file_extension": ".py",
   "mimetype": "text/x-python",
   "name": "python",
   "nbconvert_exporter": "python",
   "pygments_lexer": "ipython3",
   "version": "3.10.9"
  }
 },
 "nbformat": 4,
 "nbformat_minor": 5
}
