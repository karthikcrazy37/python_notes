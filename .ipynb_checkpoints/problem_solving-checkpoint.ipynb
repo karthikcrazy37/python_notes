{
 "cells": [
  {
   "cell_type": "code",
   "execution_count": 18,
   "id": "d82b21bb",
   "metadata": {},
   "outputs": [],
   "source": [
    "n=5\n",
    "\n",
    "\n"
   ]
  },
  {
   "cell_type": "code",
   "execution_count": 25,
   "id": "acf8b3fd",
   "metadata": {},
   "outputs": [
    {
     "name": "stdout",
     "output_type": "stream",
     "text": [
      "1\n",
      "22\n",
      "333\n",
      "4444\n"
     ]
    }
   ],
   "source": [
    "for i in range(1,n):\n",
    "    print(i*10**i//9)"
   ]
  },
  {
   "cell_type": "code",
   "execution_count": 31,
   "id": "268a19cd",
   "metadata": {},
   "outputs": [],
   "source": [
    "# when i is 1 means i*i provide 1\n",
    "# when i is 2 i*i provide 4\n",
    "# i want to replace 4 has 22\n",
    "# when i multiply it with 11 it will become 22\n",
    "# but 1 become 11 and 3 become 33\n",
    "# i want 1 to be 1 and 2 be 22 and 3 to 333\n",
    "# how to make 1 digit number to 2 digit and 3 digit and 4 digit next by next\n",
    "# to make a 3 digit number it happen i have to multiply it with 3 digit number in this case 111\n",
    "# and 4 digit 1111\n",
    "# great! now i have to cut down 3 once from 1 and 2 once from 2 and 1 once from 3 and nothing from 4th(444)"
   ]
  },
  {
   "cell_type": "markdown",
   "id": "bbed0a16",
   "metadata": {},
   "source": [
    "When you perform the division operation \\( \\frac{10}{2} \\):\n",
    "\n",
    "1. **Dividend**: This is the number being divided. In \\( \\frac{10}{2} \\), 10 is the dividend.\n",
    "2. **Divisor**: This is the number by which the dividend is divided. In \\( \\frac{10}{2} \\), 2 is the divisor.\n",
    "3. **Quotient**: This is the result of the division. Since \\( \\frac{10}{2} = 5 \\), the quotient is 5, which is true for both regular division (using `/` in Python) and floor division (using `//` in Python) since there is no remainder.\n",
    "4. **Remainder**: This is what is left over when the division is complete if it does not divide evenly. In the case of \\( \\frac{10}{2} \\), the remainder is 0 because 2 divides into 10 exactly five times with nothing left over.\n",
    "\n",
    "So for \\( \\frac{10}{2} \\):\n",
    "\n",
    "- Using `/`, the quotient is 5.0 (a floating-point number).\n",
    "- Using `//`, the quotient is also 5 (an integer).\n",
    "- The remainder is 0, which can be found using the modulus operator `%` in Python (e.g., `10 % 2` would give 0)."
   ]
  },
  {
   "cell_type": "code",
   "execution_count": null,
   "id": "986cc13a",
   "metadata": {},
   "outputs": [],
   "source": []
  }
 ],
 "metadata": {
  "kernelspec": {
   "display_name": "Python 3 (ipykernel)",
   "language": "python",
   "name": "python3"
  },
  "language_info": {
   "codemirror_mode": {
    "name": "ipython",
    "version": 3
   },
   "file_extension": ".py",
   "mimetype": "text/x-python",
   "name": "python",
   "nbconvert_exporter": "python",
   "pygments_lexer": "ipython3",
   "version": "3.10.9"
  }
 },
 "nbformat": 4,
 "nbformat_minor": 5
}
