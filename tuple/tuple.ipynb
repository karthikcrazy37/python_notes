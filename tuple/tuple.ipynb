{
 "cells": [
  {
   "cell_type": "markdown",
   "id": "4a00959d",
   "metadata": {},
   "source": [
    "Tuples are used to store multiple items in a single variable.\n",
    "\n",
    "A tuple is a collection which is ordered and unchangeable.\n",
    "\n",
    "Tuples are written with round brackets.\n",
    "\n"
   ]
  },
  {
   "cell_type": "code",
   "execution_count": 2,
   "id": "e0543309",
   "metadata": {},
   "outputs": [
    {
     "name": "stdout",
     "output_type": "stream",
     "text": [
      "('kakashi', 'might guy', 'sasukae', 'jiraya', 'itachi')\n"
     ]
    }
   ],
   "source": [
    "naruto= ('kakashi','might guy','sasukae','jiraya','itachi')\n",
    "print(naruto)"
   ]
  },
  {
   "cell_type": "code",
   "execution_count": 39,
   "id": "ffefd74f",
   "metadata": {},
   "outputs": [
    {
     "name": "stdout",
     "output_type": "stream",
     "text": [
      "<class 'tuple'>\n",
      "<class 'str'>\n"
     ]
    }
   ],
   "source": [
    "#To create a tuple with only one item, you have to add a comma after the item, otherwise Python will not recognize it as a tuple.\n",
    "\n",
    "thistuple = (\"apple\",)\n",
    "print(type(thistuple))\n",
    "\n",
    "#NOT a tuple\n",
    "thistuple = (\"apple\")\n",
    "print(type(thistuple))"
   ]
  },
  {
   "cell_type": "code",
   "execution_count": 10,
   "id": "d5f2521a",
   "metadata": {},
   "outputs": [
    {
     "data": {
      "text/plain": [
       "'might guy'"
      ]
     },
     "execution_count": 10,
     "metadata": {},
     "output_type": "execute_result"
    }
   ],
   "source": [
    "#slicing\n",
    "naruto[1]"
   ]
  },
  {
   "cell_type": "code",
   "execution_count": 12,
   "id": "4b25155a",
   "metadata": {},
   "outputs": [
    {
     "data": {
      "text/plain": [
       "['kakashi', 'might guy']"
      ]
     },
     "execution_count": 12,
     "metadata": {},
     "output_type": "execute_result"
    }
   ],
   "source": [
    "naruto[0:2]"
   ]
  },
  {
   "cell_type": "code",
   "execution_count": 13,
   "id": "260f4ce7",
   "metadata": {},
   "outputs": [
    {
     "data": {
      "text/plain": [
       "'itachi'"
      ]
     },
     "execution_count": 13,
     "metadata": {},
     "output_type": "execute_result"
    }
   ],
   "source": [
    "naruto[-1]"
   ]
  },
  {
   "cell_type": "code",
   "execution_count": 16,
   "id": "b60fb01f",
   "metadata": {},
   "outputs": [
    {
     "data": {
      "text/plain": [
       "'itachi'"
      ]
     },
     "execution_count": 16,
     "metadata": {},
     "output_type": "execute_result"
    }
   ],
   "source": [
    "naruto[-1]"
   ]
  },
  {
   "cell_type": "code",
   "execution_count": 21,
   "id": "8a6c5104",
   "metadata": {},
   "outputs": [
    {
     "data": {
      "text/plain": [
       "['jiraya']"
      ]
     },
     "execution_count": 21,
     "metadata": {},
     "output_type": "execute_result"
    }
   ],
   "source": [
    "naruto[3:-1]"
   ]
  },
  {
   "cell_type": "code",
   "execution_count": 25,
   "id": "54ea36af",
   "metadata": {},
   "outputs": [
    {
     "data": {
      "text/plain": [
       "['kakashi', 'might guy', 'sasukae', 'jiraya']"
      ]
     },
     "execution_count": 25,
     "metadata": {},
     "output_type": "execute_result"
    }
   ],
   "source": [
    "#except last value\n",
    "naruto[:-1]"
   ]
  },
  {
   "cell_type": "code",
   "execution_count": 30,
   "id": "b69e8499",
   "metadata": {},
   "outputs": [
    {
     "data": {
      "text/plain": [
       "['might guy', 'sasukae', 'jiraya', 'itachi']"
      ]
     },
     "execution_count": 30,
     "metadata": {},
     "output_type": "execute_result"
    }
   ],
   "source": [
    "#except first value\n",
    "naruto[1:]"
   ]
  },
  {
   "cell_type": "markdown",
   "id": "847594db",
   "metadata": {},
   "source": [
    "Tuples are unchangeable, meaning that you cannot change, add, or remove items once the tuple is created.\n",
    "\n",
    "But there are some workarounds.\n",
    "\n"
   ]
  },
  {
   "cell_type": "code",
   "execution_count": 37,
   "id": "f69fd821",
   "metadata": {},
   "outputs": [
    {
     "name": "stdout",
     "output_type": "stream",
     "text": [
      "('Hulk', 'Ironman', 'Captain America', 'Scarlet witch', 'Thor', 'Captain marvel')\n"
     ]
    }
   ],
   "source": [
    "Avengers=('Hulk','Ironman','Captain America','Scarlet witch','Thor')\n",
    "#for updating we should convert the tuple to list and then add the value then again change to tuple\n",
    "update_avenger=list(Avengers)\n",
    "update_avenger.append(\"Captain marvel\")\n",
    "Avengers = tuple(update_avenger)\n",
    "print(Avengers)"
   ]
  },
  {
   "cell_type": "code",
   "execution_count": 34,
   "id": "6c63a2a5",
   "metadata": {},
   "outputs": [],
   "source": []
  },
  {
   "cell_type": "code",
   "execution_count": 36,
   "id": "1ad086bc",
   "metadata": {},
   "outputs": [
    {
     "name": "stdout",
     "output_type": "stream",
     "text": [
      "('apple', 'kiwi', 'cherry')\n"
     ]
    }
   ],
   "source": [
    "x = (\"apple\", \"banana\", \"cherry\")\n",
    "y = list(x)\n",
    "y[1] = \"kiwi\"\n",
    "x = tuple(y)\n",
    "\n",
    "print(x)"
   ]
  },
  {
   "cell_type": "code",
   "execution_count": 47,
   "id": "689b98c7",
   "metadata": {},
   "outputs": [
    {
     "name": "stdout",
     "output_type": "stream",
     "text": [
      "[1, 4, 9, 16, 25]\n",
      "[4, 16]\n"
     ]
    }
   ],
   "source": [
    "#loops in tuple\n",
    "x = (1,2,3,4,5)\n",
    "\n",
    "x_square = [i**2 for i in x]\n",
    "x_squared_even = [j**2 for j in x if j%2==0]\n",
    "print(x_square)\n",
    "print(x_squared_even)"
   ]
  },
  {
   "cell_type": "code",
   "execution_count": 50,
   "id": "a528ccf6",
   "metadata": {},
   "outputs": [
    {
     "name": "stdout",
     "output_type": "stream",
     "text": [
      "[2, 4, 6, 8, 10, 12, 32]\n"
     ]
    }
   ],
   "source": [
    "x = (1,2,3,4,5,6,8,9,10,12,32)\n",
    "evennumber= []\n",
    "for i in x:\n",
    "    if i%2==0:\n",
    "        evennumber.append(i)\n",
    "print(evennumber)"
   ]
  },
  {
   "cell_type": "code",
   "execution_count": 53,
   "id": "2ced3fce",
   "metadata": {},
   "outputs": [
    {
     "name": "stdout",
     "output_type": "stream",
     "text": [
      "Vijay\n",
      "Jithesh\n",
      "Malar\n",
      "Naveen\n",
      "Bk\n"
     ]
    }
   ],
   "source": [
    "#packing means assigning values to a variable\n",
    "#When we create a tuple, we normally assign values to it. This is called \"packing\" a tuple:\n",
    "friends = ('Vijay', 'Jithesh', 'Malar', 'Naveen','Bk')\n",
    "for i in friends:\n",
    "    print(i)"
   ]
  },
  {
   "cell_type": "code",
   "execution_count": 56,
   "id": "0f8ce82d",
   "metadata": {},
   "outputs": [
    {
     "name": "stdout",
     "output_type": "stream",
     "text": [
      "Vijay\n",
      "Jithesh\n",
      "Malar Naveen Bk\n"
     ]
    }
   ],
   "source": [
    "#\n",
    "(Vijay,Jithesh,*Malar) = friends\n",
    "print(Vijay)\n",
    "print(Jithesh)\n",
    "print(*Malar)"
   ]
  },
  {
   "cell_type": "code",
   "execution_count": 59,
   "id": "88f4d668",
   "metadata": {},
   "outputs": [
    {
     "name": "stdout",
     "output_type": "stream",
     "text": [
      "Vijay\n",
      "['Jithesh', 'Malar', 'Naveen']\n",
      "Bk\n"
     ]
    }
   ],
   "source": [
    "#But, in Python, we are also allowed to extract the values back into variables. This is called \"unpacking\":\n",
    "\n",
    "friends = ('Vijay', 'Jithesh', 'Malar', 'Naveen','Bk')\n",
    "\n",
    "first, *middle, last = friends\n",
    "print(first)   # Output: 1\n",
    "print(middle)  # Output: [2, 3, 4]\n",
    "print(last)    # Output: 5"
   ]
  },
  {
   "cell_type": "code",
   "execution_count": 61,
   "id": "33ab2f61",
   "metadata": {},
   "outputs": [
    {
     "name": "stdout",
     "output_type": "stream",
     "text": [
      "('Vijay', 'Jithesh', 'Malar', 'Naveen', 'Bk', 1, 2, 3)\n"
     ]
    }
   ],
   "source": [
    "#join in tuple \n",
    "tuple2 = (1, 2, 3)\n",
    "friends = ('Vijay', 'Jithesh', 'Malar', 'Naveen','Bk')\n",
    "friends_tuple = friends+tuple2\n",
    "print(friends_tuple)"
   ]
  },
  {
   "cell_type": "code",
   "execution_count": 64,
   "id": "aab89c06",
   "metadata": {},
   "outputs": [
    {
     "name": "stdout",
     "output_type": "stream",
     "text": [
      "('Vijay', 'Jithesh', 'Malar', 'Naveen', 'Bk', 'Vijay', 'Jithesh', 'Malar', 'Naveen', 'Bk')\n"
     ]
    }
   ],
   "source": [
    "#If you want to multiply the content of a tuple a given number of times, you can use the * operator:\n",
    "friends = ('Vijay', 'Jithesh', 'Malar', 'Naveen','Bk')\n",
    "mytuple = friends * 2\n",
    "print(mytuple)\n"
   ]
  },
  {
   "cell_type": "code",
   "execution_count": null,
   "id": "79343f79",
   "metadata": {},
   "outputs": [],
   "source": []
  }
 ],
 "metadata": {
  "kernelspec": {
   "display_name": "Python 3 (ipykernel)",
   "language": "python",
   "name": "python3"
  },
  "language_info": {
   "codemirror_mode": {
    "name": "ipython",
    "version": 3
   },
   "file_extension": ".py",
   "mimetype": "text/x-python",
   "name": "python",
   "nbconvert_exporter": "python",
   "pygments_lexer": "ipython3",
   "version": "3.10.9"
  }
 },
 "nbformat": 4,
 "nbformat_minor": 5
}
