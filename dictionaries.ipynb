{
 "cells": [
  {
   "cell_type": "markdown",
   "id": "0a7f6dae",
   "metadata": {},
   "source": [
    "1. Dictionaries are used to store data values in key:value pairs.\n",
    "\n",
    "2.A dictionary is a collection which is ordered*, changeable and do not allow duplicates.\n",
    "\n"
   ]
  },
  {
   "cell_type": "code",
   "execution_count": 31,
   "id": "3d6be245",
   "metadata": {},
   "outputs": [
    {
     "name": "stdout",
     "output_type": "stream",
     "text": [
      "{'movie1': 'Vadachennai', 'movie2': 'Vtv', 'movie3': 'Wolf of the wallstreet', 'movie4': 'Avatar'}\n",
      "<class 'dict'>\n"
     ]
    }
   ],
   "source": [
    "favourite_movies = {'movie1': 'Vadachennai', \n",
    "                    'movie2': 'Vtv',\n",
    "                    'movie3': 'Wolf of the wallstreet',\n",
    "                    'movie4': 'Avatar'}\n",
    "print(favourite_movies)\n",
    "print(type(favourite_movies))\n"
   ]
  },
  {
   "cell_type": "markdown",
   "id": "214452fc",
   "metadata": {},
   "source": [
    "Dictionary items are presented in key:value pairs, and can be referred to by using the key name.\n",
    "\n"
   ]
  },
  {
   "cell_type": "code",
   "execution_count": 32,
   "id": "a686ee3b",
   "metadata": {},
   "outputs": [
    {
     "name": "stdout",
     "output_type": "stream",
     "text": [
      "Vadachennai\n"
     ]
    }
   ],
   "source": [
    "print(favourite_movies['movie1'])"
   ]
  },
  {
   "cell_type": "markdown",
   "id": "26c87482",
   "metadata": {},
   "source": [
    "There is also a method called get() that will give you the same result:\n",
    "\n"
   ]
  },
  {
   "cell_type": "code",
   "execution_count": 35,
   "id": "c59601fe",
   "metadata": {},
   "outputs": [
    {
     "name": "stdout",
     "output_type": "stream",
     "text": [
      "Vadachennai\n"
     ]
    }
   ],
   "source": [
    "print(favourite_movies.get('movie1'))\n"
   ]
  },
  {
   "cell_type": "markdown",
   "id": "1d0e957e",
   "metadata": {},
   "source": [
    "The keys() method will return a list of all the keys in the dictionary.\n"
   ]
  },
  {
   "cell_type": "code",
   "execution_count": 38,
   "id": "07710915",
   "metadata": {},
   "outputs": [
    {
     "name": "stdout",
     "output_type": "stream",
     "text": [
      "dict_keys(['movie1', 'movie2', 'movie3', 'movie4'])\n"
     ]
    }
   ],
   "source": [
    "print(favourite_movies.keys())"
   ]
  },
  {
   "cell_type": "code",
   "execution_count": 40,
   "id": "401bf307",
   "metadata": {},
   "outputs": [
    {
     "name": "stdout",
     "output_type": "stream",
     "text": [
      "dict_keys(['movie1', 'movie2', 'movie3', 'movie4'])\n"
     ]
    }
   ],
   "source": [
    "print(favourite_movies.keys())"
   ]
  },
  {
   "cell_type": "code",
   "execution_count": 41,
   "id": "28e233d1",
   "metadata": {},
   "outputs": [
    {
     "name": "stdout",
     "output_type": "stream",
     "text": [
      "dict_values(['Vadachennai', 'Vtv', 'Wolf of the wallstreet', 'Avatar'])\n"
     ]
    }
   ],
   "source": [
    "print(favourite_movies.values())"
   ]
  },
  {
   "cell_type": "code",
   "execution_count": 43,
   "id": "e38a3d1f",
   "metadata": {},
   "outputs": [],
   "source": [
    "favourite_bike = {'Bike_name': 'Himalayan',\n",
    "                 'Bike_top_speed': 150,\n",
    "                 'Bike_color': 'Black',\n",
    "                 'Bike_cc': 400,\n",
    "                 'Bike_color': 'Black'}"
   ]
  },
  {
   "cell_type": "code",
   "execution_count": 24,
   "id": "28c80c5c",
   "metadata": {},
   "outputs": [
    {
     "name": "stdout",
     "output_type": "stream",
     "text": [
      "{'Bike_name': 'Himalayan', 'Bike_top_speed': 150, 'Bike_color': 'Black', 'Bike_cc': '400 cc'}\n"
     ]
    }
   ],
   "source": [
    "print(favourite_bike)"
   ]
  },
  {
   "cell_type": "markdown",
   "id": "93b17595",
   "metadata": {},
   "source": [
    "In the above we can see there is only one bike color duplicate is not allowed in dictonraies"
   ]
  },
  {
   "cell_type": "code",
   "execution_count": 25,
   "id": "c5ff42e3",
   "metadata": {},
   "outputs": [
    {
     "name": "stdout",
     "output_type": "stream",
     "text": [
      "{'Bike_name': 'Himalayan', 'Bike_top_speed': 150, 'Bike_color': 'military_ash', 'Bike_cc': '400 cc'}\n"
     ]
    }
   ],
   "source": [
    "favourite_bike = {'Bike_name': 'Himalayan',\n",
    "                 'Bike_top_speed': 150,\n",
    "                 'Bike_color': 'Black',\n",
    "                 'Bike_cc': '400 cc',\n",
    "                 'Bike_color': 'military_ash'}\n",
    "print(favourite_bike)"
   ]
  },
  {
   "cell_type": "markdown",
   "id": "ecb73eef",
   "metadata": {},
   "source": [
    "If we have same key name bike color and it will take the last updated value that is military_ash"
   ]
  },
  {
   "cell_type": "markdown",
   "id": "9767b01b",
   "metadata": {},
   "source": [
    "The values in dictionary items can be of any data type:\n",
    "String, int, boolean, and list data types:\n",
    "\n"
   ]
  },
  {
   "cell_type": "code",
   "execution_count": 46,
   "id": "16eeb9d0",
   "metadata": {},
   "outputs": [
    {
     "name": "stdout",
     "output_type": "stream",
     "text": [
      "{'brand': 'Ford', 'electric': False, 'year': 1964, 'colors': ['red', 'white', 'blue']}\n"
     ]
    }
   ],
   "source": [
    "\n",
    "thisdict = {\n",
    "  \"brand\": \"Ford\",\n",
    "  \"electric\": False,\n",
    "  \"year\": 1964,\n",
    "  \"colors\": [\"red\", \"white\", \"blue\"]\n",
    "}\n",
    "print(thisdict)"
   ]
  },
  {
   "cell_type": "markdown",
   "id": "73601a71",
   "metadata": {},
   "source": [
    "1. The items() method will return each item in a dictionary, as tuples in a list.\n",
    "\n",
    "2.The returned list is a view of the items of the dictionary, meaning that any changes done to the dictionary will be reflected in the items list. (means it is not a copy of that dictionary it is a view of that dictionary)copy means it will create a new memory space and the changes done on that copy will not reflect on that dictionary.\n",
    "\n",
    "\n",
    "\n"
   ]
  },
  {
   "cell_type": "code",
   "execution_count": 51,
   "id": "463052c3",
   "metadata": {},
   "outputs": [
    {
     "name": "stdout",
     "output_type": "stream",
     "text": [
      "dict_items([('Bike_name', 'Himalayan'), ('Bike_top_speed', 150), ('Bike_color', 'Black'), ('Bike_cc', 400)])\n"
     ]
    }
   ],
   "source": [
    "z= favourite_bike.items()\n",
    "print(z)"
   ]
  },
  {
   "cell_type": "code",
   "execution_count": 55,
   "id": "e1a322e6",
   "metadata": {},
   "outputs": [
    {
     "name": "stdout",
     "output_type": "stream",
     "text": [
      "dict_items([('Bike_name', 'ThunderBird'), ('Bike_top_speed', 150), ('Bike_color', 'Black'), ('Bike_cc', 400)])\n"
     ]
    }
   ],
   "source": [
    "favourite_bike['Bike_name']= 'ThunderBird'\n",
    "print(z)"
   ]
  },
  {
   "cell_type": "code",
   "execution_count": 49,
   "id": "0acf54b9",
   "metadata": {},
   "outputs": [
    {
     "name": "stdout",
     "output_type": "stream",
     "text": [
      "('Bike_name', 'Himalayan')\n",
      "('Bike_top_speed', 150)\n",
      "('Bike_color', 'Black')\n",
      "('Bike_cc', 400)\n"
     ]
    }
   ],
   "source": [
    "for i in z:\n",
    "    print(i)"
   ]
  },
  {
   "cell_type": "code",
   "execution_count": 58,
   "id": "3390fe9d",
   "metadata": {},
   "outputs": [
    {
     "name": "stdout",
     "output_type": "stream",
     "text": [
      "Yes, The Bike color is in this dictionary\n"
     ]
    }
   ],
   "source": [
    "#To determine if a specified key is present in a dictionary use the in keyword:\n",
    "\n",
    "if 'Bike_color' in favourite_bike:\n",
    "    print('Yes, The Bike color is in this dictionary')"
   ]
  },
  {
   "cell_type": "code",
   "execution_count": null,
   "id": "97f802d4",
   "metadata": {},
   "outputs": [],
   "source": []
  },
  {
   "cell_type": "markdown",
   "id": "79f6010b",
   "metadata": {},
   "source": [
    "Update, Add or delete items in dictionary"
   ]
  },
  {
   "cell_type": "code",
   "execution_count": 61,
   "id": "4c843d1a",
   "metadata": {},
   "outputs": [],
   "source": [
    "# There are two ways to update values in dictionary one is calling the dict in the square bracket another method by\n",
    "#using update inbuilt function\n",
    "favourite_bike['Bike_top_speed'] = 200"
   ]
  },
  {
   "cell_type": "code",
   "execution_count": 62,
   "id": "d187eaf5",
   "metadata": {},
   "outputs": [
    {
     "data": {
      "text/plain": [
       "{'Bike_name': 'ThunderBird',\n",
       " 'Bike_top_speed': 200,\n",
       " 'Bike_color': 'Black',\n",
       " 'Bike_cc': 400}"
      ]
     },
     "execution_count": 62,
     "metadata": {},
     "output_type": "execute_result"
    }
   ],
   "source": [
    "favourite_bike"
   ]
  },
  {
   "cell_type": "code",
   "execution_count": 67,
   "id": "0dab9a67",
   "metadata": {},
   "outputs": [],
   "source": [
    "favourite_bike.update({'Bike_top_speed': 150})"
   ]
  },
  {
   "cell_type": "code",
   "execution_count": 68,
   "id": "610f7c52",
   "metadata": {},
   "outputs": [
    {
     "data": {
      "text/plain": [
       "{'Bike_name': 'ThunderBird',\n",
       " 'Bike_top_speed': 150,\n",
       " 'Bike_color': 'Black',\n",
       " 'Bike_cc': 400}"
      ]
     },
     "execution_count": 68,
     "metadata": {},
     "output_type": "execute_result"
    }
   ],
   "source": [
    "favourite_bike"
   ]
  },
  {
   "cell_type": "markdown",
   "id": "4f10eb55",
   "metadata": {},
   "source": [
    "Adding is also very similar to updated there is no syntax change "
   ]
  },
  {
   "cell_type": "code",
   "execution_count": 91,
   "id": "d8e422b1",
   "metadata": {},
   "outputs": [
    {
     "name": "stdout",
     "output_type": "stream",
     "text": [
      "{'Bike_name': 'ThunderBird', 'Bike_top_speed': 150, 'Bike_color': 'Black', 'Bike_cc': 400, 'Weight': 196, 'year': 2014}\n"
     ]
    }
   ],
   "source": [
    "favourite_bike['year']= 2014\n",
    "print(favourite_bike)"
   ]
  },
  {
   "cell_type": "code",
   "execution_count": 92,
   "id": "f959f789",
   "metadata": {},
   "outputs": [
    {
     "name": "stdout",
     "output_type": "stream",
     "text": [
      "{'Bike_name': 'ThunderBird', 'Bike_top_speed': 150, 'Bike_color': 'Black', 'Bike_cc': 400, 'Weight': 196, 'year': 2014}\n"
     ]
    }
   ],
   "source": [
    "#second way\n",
    "favourite_bike.update({'Weight': 196})\n",
    "print(favourite_bike)"
   ]
  },
  {
   "cell_type": "code",
   "execution_count": 93,
   "id": "dadb5072",
   "metadata": {},
   "outputs": [
    {
     "name": "stdout",
     "output_type": "stream",
     "text": [
      "{'Bike_name': 'ThunderBird', 'Bike_top_speed': 150, 'Bike_color': 'Black', 'Bike_cc': 400, 'Weight': 196}\n"
     ]
    }
   ],
   "source": [
    "#Delete\n",
    "favourite_bike.pop('year')\n",
    "print(favourite_bike)"
   ]
  },
  {
   "cell_type": "code",
   "execution_count": 94,
   "id": "222867c2",
   "metadata": {},
   "outputs": [
    {
     "name": "stdout",
     "output_type": "stream",
     "text": [
      "{'Bike_name': 'ThunderBird', 'Bike_top_speed': 150, 'Bike_color': 'Black', 'Bike_cc': 400}\n"
     ]
    }
   ],
   "source": [
    "#will remove the last value from the dictionary\n",
    "favourite_bike.popitem()\n",
    "print(favourite_bike)"
   ]
  },
  {
   "cell_type": "markdown",
   "id": "1b0247bf",
   "metadata": {},
   "source": [
    "The del keyword removes the item with the specified key name:\n",
    "The del keyword can also delete the dictionary completely:\n",
    "\n",
    "\n",
    "del favourite_bike('Bike_cc')\n"
   ]
  },
  {
   "cell_type": "code",
   "execution_count": 97,
   "id": "8e0c9261",
   "metadata": {},
   "outputs": [
    {
     "name": "stdout",
     "output_type": "stream",
     "text": [
      "{}\n"
     ]
    }
   ],
   "source": [
    "#The clear() method empties the dictionary:\n",
    "\n",
    "thisdict.clear()\n",
    "print(thisdict)\n"
   ]
  },
  {
   "cell_type": "code",
   "execution_count": 99,
   "id": "bcc06fea",
   "metadata": {},
   "outputs": [
    {
     "name": "stdout",
     "output_type": "stream",
     "text": [
      "Bike_name\n",
      "Bike_top_speed\n",
      "Bike_color\n",
      "Bike_cc\n"
     ]
    }
   ],
   "source": [
    "#looping dictionaries like this only return keys\n",
    "for i in favourite_bike:\n",
    "    print(i)"
   ]
  },
  {
   "cell_type": "code",
   "execution_count": 100,
   "id": "01b89ffe",
   "metadata": {},
   "outputs": [
    {
     "name": "stdout",
     "output_type": "stream",
     "text": [
      "ThunderBird\n",
      "150\n",
      "Black\n",
      "400\n"
     ]
    }
   ],
   "source": [
    "#looping only values\n",
    "for i in favourite_bike.values():\n",
    "    print(i)"
   ]
  },
  {
   "cell_type": "code",
   "execution_count": 101,
   "id": "32b87187",
   "metadata": {},
   "outputs": [
    {
     "name": "stdout",
     "output_type": "stream",
     "text": [
      "ThunderBird\n",
      "150\n",
      "Black\n",
      "400\n"
     ]
    }
   ],
   "source": [
    "#another way of looping only values\n",
    "for i in favourite_bike:\n",
    "    print(favourite_bike[i])"
   ]
  },
  {
   "cell_type": "code",
   "execution_count": 102,
   "id": "07893fd6",
   "metadata": {},
   "outputs": [],
   "source": [
    "z= favourite_bike.items()\n"
   ]
  },
  {
   "cell_type": "code",
   "execution_count": 103,
   "id": "9fec5363",
   "metadata": {},
   "outputs": [
    {
     "name": "stdout",
     "output_type": "stream",
     "text": [
      "Bike_name ThunderBird\n",
      "Bike_top_speed 150\n",
      "Bike_color Black\n",
      "Bike_cc 400\n"
     ]
    }
   ],
   "source": [
    "#Loop through both keys and values, by using the items() method:\n",
    "for x,y in z:\n",
    "    print(x,y)"
   ]
  },
  {
   "cell_type": "code",
   "execution_count": null,
   "id": "d9d096a8",
   "metadata": {},
   "outputs": [],
   "source": []
  },
  {
   "cell_type": "markdown",
   "id": "9358a3d9",
   "metadata": {},
   "source": [
    "1.You cannot copy a dictionary simply by typing dict2 = dict1, because: dict2 will only be a reference to dict1, and changes made in dict1 will automatically also be made in dict2.\n",
    "\n",
    "There are ways to make a copy, one way is to use the built-in Dictionary method copy().\n",
    "\n",
    "\n",
    "\n"
   ]
  },
  {
   "cell_type": "code",
   "execution_count": 105,
   "id": "dadfe557",
   "metadata": {},
   "outputs": [
    {
     "data": {
      "text/plain": [
       "{'Bike_name': 'ThunderBird',\n",
       " 'Bike_top_speed': 150,\n",
       " 'Bike_color': 'Black',\n",
       " 'Bike_cc': 400}"
      ]
     },
     "execution_count": 105,
     "metadata": {},
     "output_type": "execute_result"
    }
   ],
   "source": [
    "favourite_bike_copy = favourite_bike.copy()\n",
    "favourite_bike_copy"
   ]
  },
  {
   "cell_type": "code",
   "execution_count": 106,
   "id": "ab1211e7",
   "metadata": {},
   "outputs": [],
   "source": [
    "favourite_movies_copy= dict(favourite_movies)"
   ]
  },
  {
   "cell_type": "code",
   "execution_count": 107,
   "id": "9716096a",
   "metadata": {},
   "outputs": [
    {
     "data": {
      "text/plain": [
       "{'movie1': 'Vadachennai',\n",
       " 'movie2': 'Vtv',\n",
       " 'movie3': 'Wolf of the wallstreet',\n",
       " 'movie4': 'Avatar'}"
      ]
     },
     "execution_count": 107,
     "metadata": {},
     "output_type": "execute_result"
    }
   ],
   "source": [
    "favourite_movies_copy"
   ]
  },
  {
   "cell_type": "code",
   "execution_count": 116,
   "id": "a14cf052",
   "metadata": {},
   "outputs": [],
   "source": [
    "favourite_movie_details= {\n",
    "    'Vadachennai':{\n",
    "        'Director': 'Vetrimaran',\n",
    "        'Hero': 'Dhanush',\n",
    "        'Heroine':'Ishwaraya Rajesh',\n",
    "        'Supporting Actor': 'Samuthrakani',\n",
    "        'Music Director': 'G.V.Prakash'\n",
    "    },\n",
    "    '7 G Rainbow colony':{\n",
    "        'Director': 'SelvaRagavan',\n",
    "        'Hero': 'Ravi Krishnan',\n",
    "        'Heroine': 'Sonya Agarwal',\n",
    "        'Music director': 'Yuvan Shankar raja'\n",
    "    },\n",
    "    'Katrathu Tamizh':{\n",
    "        'Director': 'Ram',\n",
    "        'Hero': 'Jeeva',\n",
    "        'Heroine': 'Anjali',\n",
    "        'Music director': 'Yuvan Shankar Raja'\n",
    "    }\n",
    "}"
   ]
  },
  {
   "cell_type": "code",
   "execution_count": 117,
   "id": "6ebc0ef4",
   "metadata": {},
   "outputs": [
    {
     "data": {
      "text/plain": [
       "{'Vadachennai': {'Director': 'Vetrimaran',\n",
       "  'Hero': 'Dhanush',\n",
       "  'Heroine': 'Ishwaraya Rajesh',\n",
       "  'Supporting Actor': 'Samuthrakani',\n",
       "  'Music Director': 'G.V.Prakash'},\n",
       " '7 G Rainbow colony': {'Director': 'SelvaRagavan',\n",
       "  'Hero': 'Ravi Krishnan',\n",
       "  'Heroine': 'Sonya Agarwal',\n",
       "  'Music director': 'Yuvan Shankar raja'},\n",
       " 'Katrathu Tamizh': {'Director': 'Ram',\n",
       "  'Hero': 'Jeeva',\n",
       "  'Heroine': 'Anjali',\n",
       "  'Music director': 'Yuvan Shankar Raja'}}"
      ]
     },
     "execution_count": 117,
     "metadata": {},
     "output_type": "execute_result"
    }
   ],
   "source": [
    "favourite_movie_details"
   ]
  },
  {
   "cell_type": "code",
   "execution_count": 118,
   "id": "4baa929e",
   "metadata": {},
   "outputs": [
    {
     "data": {
      "text/plain": [
       "dict_items([('Vadachennai', {'Director': 'Vetrimaran', 'Hero': 'Dhanush', 'Heroine': 'Ishwaraya Rajesh', 'Supporting Actor': 'Samuthrakani', 'Music Director': 'G.V.Prakash'}), ('7 G Rainbow colony', {'Director': 'SelvaRagavan', 'Hero': 'Ravi Krishnan', 'Heroine': 'Sonya Agarwal', 'Music director': 'Yuvan Shankar raja'}), ('Katrathu Tamizh', {'Director': 'Ram', 'Hero': 'Jeeva', 'Heroine': 'Anjali', 'Music director': 'Yuvan Shankar Raja'})])"
      ]
     },
     "execution_count": 118,
     "metadata": {},
     "output_type": "execute_result"
    }
   ],
   "source": [
    "f = favourite_movie_details.items()\n",
    "f"
   ]
  },
  {
   "cell_type": "code",
   "execution_count": null,
   "id": "fb8e86f3",
   "metadata": {},
   "outputs": [],
   "source": []
  }
 ],
 "metadata": {
  "kernelspec": {
   "display_name": "Python 3 (ipykernel)",
   "language": "python",
   "name": "python3"
  },
  "language_info": {
   "codemirror_mode": {
    "name": "ipython",
    "version": 3
   },
   "file_extension": ".py",
   "mimetype": "text/x-python",
   "name": "python",
   "nbconvert_exporter": "python",
   "pygments_lexer": "ipython3",
   "version": "3.10.9"
  }
 },
 "nbformat": 4,
 "nbformat_minor": 5
}
