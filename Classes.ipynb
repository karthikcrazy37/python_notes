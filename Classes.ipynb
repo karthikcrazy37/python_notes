{
 "cells": [
  {
   "cell_type": "markdown",
   "id": "3c6d48fc",
   "metadata": {},
   "source": [
    "why we need classes \n",
    "\n",
    "1. With the help of Classes we can easily represent complex data structures and they contain functions that then describe the behavior of our class.\n",
    "\n",
    "2. A class is basically a blueprint of how something should be defined and the way we create class in python is with the keyword class and then followed by a name by convention we start the class name with a capital letter.\n",
    "\n",
    "3. Class is just a blueprint it does not contains any concrete information the actual informations will be on the instances of that class. for example if you create a dogs class, the class will contains only the outline or general information like colors,breed,height,weight. But in the instance it will consist what the actual breed like gernansherped and color like black.\n",
    "\n",
    "4. All classes have a function called __init__(), which is always executed when the class is being initiated.\n",
    "\n",
    "5. Use the __init__() function to assign values to object properties, or other operations that are necessary to do when the object is being created:\n",
    "\n",
    "Note: The __init__() function is called automatically every time the class is being used to create a new object.\n",
    "\n",
    "6. The self parameter is a reference to the current instance of the class, and is used to access variables that belongs to the class.\n",
    "\n",
    "7. It does not have to be named self , you can call it whatever you like, but it has to be the first parameter of any function in the class:\n",
    "\n"
   ]
  },
  {
   "cell_type": "code",
   "execution_count": 48,
   "id": "f27a27b3",
   "metadata": {},
   "outputs": [
    {
     "name": "stdout",
     "output_type": "stream",
     "text": [
      "Karthik 2000\n",
      "Monkey d luffy\n"
     ]
    }
   ],
   "source": [
    "#class\n",
    "class SoftwareEngineer:\n",
    "    #class atrributes\n",
    "    Hero = \"Monkey d luffy\"\n",
    "    def __init__(self,name,age,jobtitle,salary):\n",
    "        #parameters that have self in the front here that can be used in this class and these have a special name\n",
    "        #ie instance attributes\n",
    "        self.name = name\n",
    "        self.age = age\n",
    "        self.jobtitle = jobtitle\n",
    "        self.salary = salary\n",
    "        \n",
    "    #instance method    \n",
    "    def coder(self):\n",
    "        print(f\"{self.name} is writing code\")\n",
    "        \n",
    "    def coder_language(self, language):\n",
    "        print(f\"{self.name} is writing code in {language}\")\n",
    "\n",
    "    def __str__(self):\n",
    "        information = f\"name: {self.name}, age= {self.age}, jobtitle= {self.jobtitle}, salary= {self.salary}\"\n",
    "        return information\n",
    "\n",
    "        \n",
    "\n",
    "#instance\n",
    "se1 = SoftwareEngineer(\"Karthik\",22,\"Data Engineer\",2000)\n",
    "# In th print the name and salary we call is the self.name and the self.salary not the name and salary after =\n",
    "#name and salary after the equal sign is denotes the arguments in (\"Karthik\",2000)\n",
    "print(se1.name,se1.salary)\n",
    "\n",
    "\n",
    "#when we mean class atrribute that is defined outside the __init__(), we can use without instantiating an object\n",
    "#whereas we cannot do it in the case of instance attributes that is defined inside the __init__() we must create\n",
    "#an object to usse it.\n",
    "print(SoftwareEngineer.Hero)\n",
    "        \n",
    "    "
   ]
  },
  {
   "cell_type": "markdown",
   "id": "7ff2c63f",
   "metadata": {},
   "source": [
    "1. The functions in class will further clarify why a class is better structure than a list.\n",
    "\n",
    "2. Consider we are creating a global function meaning creating a function outside the class like this\n",
    "\n",
    "def code(name):\n",
    "\n",
    "    print(f\"{name} is writing code\")\n",
    "    \n",
    "    \n",
    "now if we try to call this function it still works but we can replace the with a name of an designer or Analyst too, but if we create the function inside a SoftwareEngineer class we can confirm that only programmers name are here.\n",
    "\n",
    "Note that we have a one parameter self inside the class but we don't pass this into this function se1.coder() when we execute it this is automatically included for us. So the same in the __init__ function in the declaration inside the class we have self as the first parameter but when we create using se1 instance we start with the name not self.\n",
    "\n",
    "Dunder method:\n",
    "\n",
    "Consider we are printing only the se1 object without declaring __str__() we get information like class name objects at the memory location. Now using this __str__() you can specify what to show when the object executes."
   ]
  },
  {
   "cell_type": "markdown",
   "id": "351afbb3",
   "metadata": {},
   "source": [
    "We can only use the instance method or instance attributes when the self is already defined on the class because when we call a instance like se1 with some method like se1.coder() python will automatically load the self has a first parameter and when we tries to give another parameter the method will have two parameters instead of one so it will crash.\n",
    "But we can call a method that do not have an self parameter already defined in the class by directly calling it with the Class name like print(SoftwareEngineer.entry_salary(27)) then it will not crash because the python only loads self automatically only for the instances not for classes.\n",
    "\n",
    "In practice when you see a method in a class that should not be tied to a specific instance then most of the time you see it with the @static decorator static method.\n",
    "\n",
    "Using __eq__() we can compare two objects. "
   ]
  },
  {
   "cell_type": "code",
   "execution_count": 49,
   "id": "ff592e3f",
   "metadata": {},
   "outputs": [
    {
     "name": "stdout",
     "output_type": "stream",
     "text": [
      "Karthik is writing code\n"
     ]
    }
   ],
   "source": [
    "def coder(name):\n",
    "    print(f'{name} is writing code')\n",
    "\n",
    "coder('Karthik')"
   ]
  },
  {
   "cell_type": "code",
   "execution_count": 50,
   "id": "62a59c67",
   "metadata": {},
   "outputs": [
    {
     "name": "stdout",
     "output_type": "stream",
     "text": [
      "Alan is writing code\n",
      "Alan is writing code in Powerbi\n",
      "Karthik is writing code in Python\n"
     ]
    }
   ],
   "source": [
    "se= SoftwareEngineer('Alan',25, 'Data scientist', 2300)\n",
    "se.coder()\n",
    "se.coder_language('Powerbi')\n",
    "se1.coder_language('Python')\n"
   ]
  },
  {
   "cell_type": "code",
   "execution_count": 54,
   "id": "bac336da",
   "metadata": {},
   "outputs": [
    {
     "name": "stdout",
     "output_type": "stream",
     "text": [
      "name: Alan, age= 25, jobtitle= Data scientist, salary= 2300\n"
     ]
    }
   ],
   "source": [
    "print(se)"
   ]
  },
  {
   "cell_type": "markdown",
   "id": "34142506",
   "metadata": {},
   "source": [
    "Inheritance:\n",
    "\n",
    "1. Inheritance is the process by which one class takes on the attributes and methods of another class so this newly formed class is called a child class and the other one is called the parent class.\n",
    "\n",
    "2. if we use a same function with the same name in the child class we will override the parent class. if we use a new function in the child class we will extend this. "
   ]
  },
  {
   "cell_type": "code",
   "execution_count": 68,
   "id": "36d46605",
   "metadata": {},
   "outputs": [],
   "source": [
    "#Any class can be a parent class, so the syntax is the same as creating any other class:\n",
    "\n",
    "class Person:\n",
    "    def __init__(self, name, age):\n",
    "        self.name = name\n",
    "        self.age = age\n",
    "    \n",
    "    def print_name_age(self):\n",
    "        print(f\"The person name is {self.name} and his age is {self.age}\")\n",
    "    "
   ]
  },
  {
   "cell_type": "code",
   "execution_count": 69,
   "id": "738bc1b8",
   "metadata": {},
   "outputs": [
    {
     "name": "stdout",
     "output_type": "stream",
     "text": [
      "The person name is Sathish and his age is 27\n"
     ]
    }
   ],
   "source": [
    "person1 = Person('Sathish',27)\n",
    "person1.print_name_age()"
   ]
  },
  {
   "cell_type": "code",
   "execution_count": 89,
   "id": "68a5d9f5",
   "metadata": {},
   "outputs": [],
   "source": [
    "#To create a class that inherits the functionality from another class, send the parent class as a parameter \n",
    "#when creating the child class:\n",
    "#When you add the __init__() function, the child class will no longer inherit the parent's __init__() function.\n",
    "#Python has a super()function that will make the child class inherit all the methods and properties from its parent\n",
    "\n",
    "\n",
    "\n",
    "class Student(Person):\n",
    "    def __init__(self, name, age, nickname, year):\n",
    "        super().__init__(name, age)\n",
    "        self.nickname = nickname\n",
    "        self.graduationyear = year\n",
    "    def welcome(self):\n",
    "        print(\"Welcome\", self.name, \"to the class of\", self.graduationyear)\n",
    "        \n",
    "    #If you add a method in the child class with the same name as a function in the parent class,\n",
    "    #the inheritance of the parent method will be overridden."
   ]
  },
  {
   "cell_type": "code",
   "execution_count": 90,
   "id": "ef9d16b0",
   "metadata": {},
   "outputs": [
    {
     "name": "stdout",
     "output_type": "stream",
     "text": [
      "2018\n",
      "Sathish\n",
      "Johnsnow\n",
      "Welcome Sathish to the class of 2018\n",
      "None\n"
     ]
    }
   ],
   "source": [
    "person = Student('Sathish',27, 'Johnsnow', 2018)\n",
    "print(person.graduationyear)\n",
    "print(person.name)\n",
    "print(person.nickname)\n",
    "print(person.welcome())"
   ]
  },
  {
   "cell_type": "code",
   "execution_count": null,
   "id": "6ca5a840",
   "metadata": {},
   "outputs": [],
   "source": []
  },
  {
   "cell_type": "code",
   "execution_count": null,
   "id": "5130a92d",
   "metadata": {},
   "outputs": [],
   "source": []
  },
  {
   "cell_type": "code",
   "execution_count": null,
   "id": "119b9a9f",
   "metadata": {},
   "outputs": [],
   "source": []
  },
  {
   "cell_type": "code",
   "execution_count": null,
   "id": "f4539acd",
   "metadata": {},
   "outputs": [],
   "source": []
  },
  {
   "cell_type": "code",
   "execution_count": null,
   "id": "73b5d003",
   "metadata": {},
   "outputs": [],
   "source": []
  },
  {
   "cell_type": "code",
   "execution_count": null,
   "id": "5941bea6",
   "metadata": {},
   "outputs": [],
   "source": []
  },
  {
   "cell_type": "code",
   "execution_count": 13,
   "id": "56901e11",
   "metadata": {},
   "outputs": [
    {
     "name": "stdout",
     "output_type": "stream",
     "text": [
      "a is larger than b. The value of a is: 33 and the value of b is 3.\n"
     ]
    }
   ],
   "source": [
    "a=33\n",
    "b=3\n",
    "\n",
    "if a < b:\n",
    "    print(f\"a is smaller than b. The value of a is: {a} and the value of b is {b}.\")\n",
    "else:\n",
    "    print(f\"a is larger than b. The value of a is: {a} and the value of b is {b}.\")"
   ]
  },
  {
   "cell_type": "code",
   "execution_count": 16,
   "id": "29ff4470",
   "metadata": {},
   "outputs": [
    {
     "name": "stdout",
     "output_type": "stream",
     "text": [
      "a is smaller than b. The value of a is: 10 and the value of b is 22.\n"
     ]
    }
   ],
   "source": [
    "def find_maximum_number(a,b):\n",
    "    if a < b:\n",
    "        print(f\"a is smaller than b. The value of a is: {a} and the value of b is {b}.\")\n",
    "    else:\n",
    "        print(f\"a is larger than b. The value of a is: {a} and the value of b is {b}.\")\n",
    "\n",
    "find_maximum_number(10,22)"
   ]
  },
  {
   "cell_type": "code",
   "execution_count": null,
   "id": "c7225cbc",
   "metadata": {},
   "outputs": [],
   "source": []
  }
 ],
 "metadata": {
  "kernelspec": {
   "display_name": "Python 3 (ipykernel)",
   "language": "python",
   "name": "python3"
  },
  "language_info": {
   "codemirror_mode": {
    "name": "ipython",
    "version": 3
   },
   "file_extension": ".py",
   "mimetype": "text/x-python",
   "name": "python",
   "nbconvert_exporter": "python",
   "pygments_lexer": "ipython3",
   "version": "3.10.9"
  }
 },
 "nbformat": 4,
 "nbformat_minor": 5
}
